{
 "cells": [
  {
   "cell_type": "code",
   "execution_count": null,
   "metadata": {},
   "outputs": [],
   "source": [
    "import cv2\n",
    "import numpy as np\n",
    "import matplotlib.pyplot as plt\n",
    "import ipywidgets as widgets\n",
    "from IPython.display import display\n",
    "\n",
    "src = cv2.imread(\"./dataset/original/boxes/img.tif\")\n",
    "\n",
    "if src is None:\n",
    "    print(\"Error loading the image\")\n",
    "    exit()\n",
    "\n",
    "src_rgb = cv2.cvtColor(src, cv2.COLOR_BGR2RGB)\n",
    "\n",
    "def adjust_brightness_contrast(brightness=50, contrast=50):\n",
    "    brightness = brightness - 50\n",
    "    contrast = contrast / 50.0\n",
    "    \n",
    "    dst = cv2.convertScaleAbs(src_rgb, alpha=contrast, beta=brightness)\n",
    "    \n",
    "    plt.figure(figsize=(5, 5))\n",
    "    plt.imshow(dst)\n",
    "    plt.axis('off')\n",
    "    plt.show()\n",
    "\n",
    "brightness_slider = widgets.IntSlider(value=50, min=0, max=100, step=1, description='Brightness')\n",
    "contrast_slider = widgets.IntSlider(value=50, min=0, max=100, step=1, description='Contrast')\n",
    "\n",
    "widgets.interact(adjust_brightness_contrast, brightness=brightness_slider, contrast=contrast_slider)"
   ]
  }
 ],
 "metadata": {
  "kernelspec": {
   "display_name": "ocrdata",
   "language": "python",
   "name": "python3"
  },
  "language_info": {
   "codemirror_mode": {
    "name": "ipython",
    "version": 3
   },
   "file_extension": ".py",
   "mimetype": "text/x-python",
   "name": "python",
   "nbconvert_exporter": "python",
   "pygments_lexer": "ipython3",
   "version": "3.8.19"
  }
 },
 "nbformat": 4,
 "nbformat_minor": 2
}
